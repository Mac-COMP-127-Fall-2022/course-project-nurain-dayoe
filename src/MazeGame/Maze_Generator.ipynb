{
  "cells": [
    {
      "cell_type": "code",
      "execution_count": null,
      "metadata": {
        "id": "yRE50MTzvJcf"
      },
      "outputs": [],
      "source": [
        "import pandas as pd"
      ]
    },
    {
      "cell_type": "code",
      "execution_count": null,
      "metadata": {
        "id": "rfHZWpftvKjp"
      },
      "outputs": [],
      "source": [
        "import numpy as np \n",
        "import random"
      ]
    },
    {
      "cell_type": "code",
      "execution_count": null,
      "metadata": {
        "id": "ahsTnvBUveM1"
      },
      "outputs": [],
      "source": [
        "matrix = np.zeros((200,200))\n",
        "resMatrix = np.zeros((200,200))\n",
        "solutionMatrix = np.zeros((200,200))"
      ]
    },
    {
      "cell_type": "code",
      "execution_count": null,
      "metadata": {
        "id": "EcqIwjJuwOzR"
      },
      "outputs": [],
      "source": [
        "def randGen():\n",
        "  return random.randrange(0,200)\n"
      ]
    },
    {
      "cell_type": "code",
      "execution_count": null,
      "metadata": {
        "id": "GU8mKCnQynhF"
      },
      "outputs": [],
      "source": [
        "def generateWeights(p1, p2):\n",
        "  weightList = [0,0,0,0]\n",
        "  #WeighList= [UpWeight, DownWeight, RightWeight, LeftWeight]\n",
        "  deltaX = p2[0]-p1[0]\n",
        "  deltaY = p2[1]-p1[1]\n",
        "\n",
        "  if deltaX>0:\n",
        "    weightList[2] = 100\n",
        "  elif deltaX<0:\n",
        "    weightList[3] = 100\n",
        "\n",
        "\n",
        "  if deltaY>0:\n",
        "    weightList[0] = 100\n",
        "  elif deltaY<0:\n",
        "    weightList[1]= 100\n",
        "  \n",
        "\n",
        "  frequency  = weightList.count(100)\n",
        "  newWeight = 100/frequency\n",
        "  for i in range(len(weightList)):\n",
        "    if weightList[i]==100:\n",
        "      weightList[i]= newWeight;\n",
        "  return weightList\n"
      ]
    },
    {
      "cell_type": "code",
      "execution_count": null,
      "metadata": {
        "id": "k6sy9V39vtE6"
      },
      "outputs": [],
      "source": []
    },
    {
      "cell_type": "code",
      "execution_count": null,
      "metadata": {
        "id": "iHITQWDVv15t"
      },
      "outputs": [],
      "source": [
        "\n",
        "def movePointer(weightList,curPoint,finPoint,layerLabel,firstIter):\n",
        "\n",
        "  if firstIter==True:\n",
        "    solutionMatrix[curPoint[0]][curPoint[1]]=1\n",
        "\n",
        "  #0 = up, 1 = down, 2 = right, 3 = left \n",
        "  if matrix[curPoint[0]][curPoint[1]]==0:\n",
        "    matrix[curPoint[0]][curPoint[1]] = layerLabel\n",
        "  else:\n",
        "    matrix[curPoint[0]][curPoint[1]]=-6\n",
        "  nonZeroIndexList = []\n",
        "  for i in range(len(weightList)):\n",
        "    if weightList[i] != 0 : \n",
        "      nonZeroIndexList.append(i)\n",
        "  directionToMove = random.choice(nonZeroIndexList)\n",
        "  if directionToMove==0:\n",
        "      curPoint[1]+=1\n",
        "  elif directionToMove==1:\n",
        "      curPoint[1]-=1\n",
        "  elif directionToMove==2:\n",
        "      curPoint[0]+=1\n",
        "  elif directionToMove==3:\n",
        "      curPoint[0]-=1\n",
        "  \n",
        "  isReferencePoint = False\n",
        "  if random.random()>0.1:\n",
        "    isReferencePoint = True\n",
        "  \n",
        "  return [curPoint,isReferencePoint]\n",
        "\n"
      ]
    },
    {
      "cell_type": "code",
      "execution_count": null,
      "metadata": {
        "id": "ydLAeDpTx_og"
      },
      "outputs": [],
      "source": [
        "firstIteration = True\n",
        "\n",
        "for obj in range(67):\n",
        "  obj+=1\n",
        "  referencePointList = []\n",
        "  if firstIteration==True:\n",
        "\n",
        "    Point1 = [7,0]\n",
        "    Point2 = [180,199]  \n",
        "    \n",
        "  else:\n",
        "\n",
        "    if len(referencePointList)!=0:\n",
        "      Point1 = random.choice(referencePointList)\n",
        "      #additional\n",
        "      referencePointList.remove(Point1)\n",
        "      \n",
        "    else:\n",
        "      Point1 = [randGen(),randGen()]\n",
        "    Point2 = [randGen(),randGen()]  \n",
        "\n",
        "\n",
        "  while Point1[0]!=Point2[0] or Point1[1]!=Point2[1]:\n",
        "\n",
        "    p1 = movePointer(generateWeights(Point1,Point2),Point1,Point2,obj,firstIteration)\n",
        "    Point1 = p1[0]\n",
        "    if p1[1]==True:\n",
        "      referencePointList.append([Point1[0],Point1[1]])\n",
        "  firstIteration = False\n",
        "    \n",
        "\n"
      ]
    },
    {
      "cell_type": "code",
      "execution_count": null,
      "metadata": {
        "id": "3Ucb6avo21Mu"
      },
      "outputs": [],
      "source": [
        "boundaryDictionary = {(True,True,True,True):1,\n",
        "                      (False,True,True,True):2,\n",
        "                      (True,False,True,True):3,\n",
        "                      (True,True,False,True):4,\n",
        "                      (True,True,True,False):5,\n",
        "                      (False,True,False,True):6,\n",
        "                      (True,False,True,False):7,\n",
        "                      (True,True,False,False):8,\n",
        "                      (False,False,True,True):9,\n",
        "                      (False,True,True,False):10,\n",
        "                      (True,False,False,True):11,\n",
        "                      (True,False,False,False):12,\n",
        "                      (False,True,False,False):13,\n",
        "                      (False,False,True,False):14,\n",
        "                      (False,False,False,True):15,\n",
        "                      }"
      ]
    },
    {
      "cell_type": "code",
      "execution_count": null,
      "metadata": {
        "id": "GZ77xD-h66ym"
      },
      "outputs": [],
      "source": [
        "def getNonZeroNeightbours(Matrix, curPosition,wallDir):\n",
        "    count = 0\n",
        "    #north , east, south, west\n",
        "    neighbourList = [False, False, False, False]\n",
        "\n",
        "\n",
        "    if wallDir!= \"East\" and wallDir!= \"NorthEast\" and wallDir!=\"SouthEast\":\n",
        "      if Matrix[curPosition[0]][curPosition[1]+1]!=0:\n",
        "        count+=1 \n",
        "        neighbourList[1]= True\n",
        "    if wallDir!=\"North\" and wallDir!=\"NorthEast\" and wallDir!=\"NorthWest\":\n",
        "      if Matrix[curPosition[0]-1][curPosition[1]]!=0:\n",
        "        count+=1 \n",
        "        neighbourList[0]= True\n",
        "    if wallDir!=\"West\"and wallDir!=\"SouthWest\" and wallDir!=\"NorthWest\":\n",
        "      if Matrix[curPosition[0]][curPosition[1]-1]!=0:\n",
        "        count+=1 \n",
        "        neighbourList[3]= True\n",
        "    if wallDir!=\"South\" and wallDir!=\"SouthWest\" and wallDir!=\"SouthEast\":\n",
        "      if Matrix[curPosition[0]+1][curPosition[1]]!=0:\n",
        "        count+=1 \n",
        "        neighbourList[2]= True\n",
        "\n",
        "\n",
        "    #Direction constraints\n",
        "    if dir==\"North\":\n",
        "      neighbourList[0]=False\n",
        "    elif dir ==\"East\":\n",
        "      neighbourList[1]=False\n",
        "    elif dir == \"South\":\n",
        "      neighbourList[2]=False\n",
        "    elif dir == \"West\":\n",
        "      neighbourList[3]=False\n",
        "    if wallDir==\"North\":\n",
        "      neighbourList[0]=False\n",
        "    elif wallDir ==\"East\":\n",
        "      neighbourList[1]=False\n",
        "    elif wallDir == \"South\":\n",
        "      neighbourList[2]=False\n",
        "    elif wallDir == \"West\":\n",
        "      neighbourList[3]=False\n",
        "    elif wallDir ==\"NorthEast\":\n",
        "      neighbourList[0]=False\n",
        "      neighbourList[1]=False\n",
        "    elif wallDir == \"SouthEast\":\n",
        "      neighbourList[1]=False\n",
        "      neighbourList[2]=False\n",
        "    elif wallDir == \"SouthWest\":\n",
        "      neighbourList[2]=False\n",
        "      neighbourList[3]=False\n",
        "    elif wallDir == \"NorthWest\":\n",
        "      neighbourList[3]=False\n",
        "      neighbourList[0]=False\n",
        "\n",
        "    return tuple(neighbourList)\n",
        "    \n",
        "def getSelfNeightbours(Matrix,self,curPosition,wallDir):\n",
        "    count = 0\n",
        "    #north , east, south, west\n",
        "    \n",
        "    neighbourList = [False, False, False, False]\n",
        "    \n",
        "\n",
        "    if wallDir!= \"East\" and wallDir!= \"NorthEast\" and wallDir!=\"SouthEast\":\n",
        "      \n",
        "      if Matrix[curPosition[0]][curPosition[1]+1]==self or Matrix[curPosition[0]][curPosition[1]+1]<0:\n",
        "        count+=1 \n",
        "        neighbourList[1]= True\n",
        "    if wallDir!=\"North\" and wallDir!=\"NorthEast\" and wallDir!=\"NorthWest\":\n",
        "      if Matrix[curPosition[0]-1][curPosition[1]]==self or Matrix[curPosition[0]-1][curPosition[1]]<0:\n",
        "        count+=1 \n",
        "        neighbourList[0]= True\n",
        "    if wallDir!=\"West\"and wallDir!=\"NorthWest\" and wallDir!=\"SouthWest\":\n",
        "      if Matrix[curPosition[0]][curPosition[1]-1]==self or Matrix[curPosition[0]][curPosition[1]-1]<0:\n",
        "        count+=1 \n",
        "        neighbourList[3]= True\n",
        "    if wallDir!=\"South\" and wallDir!=\"SouthWest\" and wallDir!=\"SouthEast\":\n",
        "      if Matrix[curPosition[0]+1][curPosition[1]]==self or Matrix[curPosition[0]+1][curPosition[1]]<0:\n",
        "        count+=1 \n",
        "        neighbourList[2]= True\n",
        "\n",
        "    #Directional Constrains kick in \n",
        "    if wallDir==\"North\":\n",
        "      neighbourList[0]=False\n",
        "    elif wallDir ==\"East\":\n",
        "      neighbourList[1]=False\n",
        "    elif wallDir == \"South\":\n",
        "      neighbourList[2]=False\n",
        "    elif wallDir == \"West\":\n",
        "      neighbourList[3]=False\n",
        "    elif wallDir ==\"NorthEast\":\n",
        "      neighbourList[0]=False\n",
        "      neighbourList[1]=False\n",
        "    elif wallDir == \"SouthEast\":\n",
        "      neighbourList[1]=False\n",
        "      neighbourList[2]=False\n",
        "    elif wallDir == \"SouthWest\":\n",
        "      neighbourList[2]=False\n",
        "      neighbourList[3]=False\n",
        "    elif wallDir == \"NorthWest\":\n",
        "      neighbourList[3]=False\n",
        "      neighbourList[0]=False\n",
        "    return tuple(neighbourList)\n",
        "  \n"
      ]
    },
    {
      "cell_type": "code",
      "execution_count": null,
      "metadata": {
        "id": "9woEPfltgcmq"
      },
      "outputs": [],
      "source": [
        "def matrixLayerToPatternConversion(matrix): \n",
        "  \n",
        "  for row in range(len(matrix)):\n",
        "    for column in range(len(matrix[row])-1): \n",
        "      if matrix[row][column]!=0:\n",
        "        #boundary\n",
        "        if row!= 0 and row!=(len(matrix)-1) and column!=0 and column!=len((matrix[0])-1) :\n",
        "          \n",
        "          if matrix[row][column]<0:\n",
        "            resMatrix[row][column]=boundaryDictionary.get(getNonZeroNeightbours(matrix,[row,column],None))\n",
        "          else:\n",
        "            resMatrix[row][column]=boundaryDictionary.get(getSelfNeightbours(matrix,matrix[row][column],[row,column],None))\n",
        "        else:\n",
        "          \n",
        "          if row==0:\n",
        "            mes = \"\"\n",
        "            if column==0:\n",
        "              mes = \"NorthWest\"\n",
        "            elif column == len(matrix[0])-1:\n",
        "              mes = 'NorthEast'\n",
        "            else:\n",
        "              mes = \"North\"\n",
        "            if matrix[row][column]<0:\n",
        "              resMatrix[row][column]=boundaryDictionary.get(getNonZeroNeightbours(matrix,[row,column],mes))\n",
        "            else:\n",
        "              resMatrix[row][column]=boundaryDictionary.get(getSelfNeightbours(matrix,matrix[row][column],[row,column],mes))\n",
        "          elif row==len(matrix)-1:\n",
        "            mes = \"\"\n",
        "            if column==0:\n",
        "              mes = \"SouthWest\"\n",
        "            elif column == len(matrix[0])-1:\n",
        "              mes = 'SouthEast'\n",
        "            else:\n",
        "              mes = \"South\"\n",
        "\n",
        "            if matrix[row][column]<0:\n",
        "              resMatrix[row][column]=boundaryDictionary.get(getNonZeroNeightbours(matrix,[row,column],mes))\n",
        "            else:\n",
        "              resMatrix[row][column]=boundaryDictionary.get(getSelfNeightbours(matrix,matrix[row][column],[row,column],mes))\n",
        "          elif column ==0 :\n",
        "            mes = \"West\"\n",
        "            if matrix[row][column]<0:\n",
        "              resMatrix[row][column]=boundaryDictionary.get(getNonZeroNeightbours(matrix,[row,column],mes))\n",
        "            else:\n",
        "              resMatrix[row][column]=boundaryDictionary.get(getSelfNeightbours(matrix,matrix[row][column],[row,column],mes))\n",
        "          elif column == len(matrix[row])-1:\n",
        "            mes = \"East\"\n",
        "            if matrix[row][column]<0:\n",
        "              resMatrix[row][column]=boundaryDictionary.get(getNonZeroNeightbours(matrix,[row,column],mes))\n",
        "            else:\n",
        "              resMatrix[row][column]=boundaryDictionary.get(getSelfNeightbours(matrix,matrix[row][column],[row,column],mes))\n",
        "          else:\n",
        "            print(\"Error: Check Code\")\n",
        "              \n",
        "  return resMatrix\n"
      ]
    },
    {
      "cell_type": "code",
      "execution_count": null,
      "metadata": {
        "colab": {
          "base_uri": "https://localhost:8080/"
        },
        "id": "tm2i_a77vlzT",
        "outputId": "7968438c-9af2-46dd-e76f-579e1899df04"
      },
      "outputs": [
        {
          "data": {
            "text/plain": [
              "array([[0., 0., 0., ..., 0., 0., 0.],\n",
              "       [0., 0., 0., ..., 0., 0., 0.],\n",
              "       [0., 0., 0., ..., 0., 0., 0.],\n",
              "       ...,\n",
              "       [0., 0., 0., ..., 0., 0., 0.],\n",
              "       [0., 0., 0., ..., 0., 0., 0.],\n",
              "       [0., 0., 0., ..., 0., 0., 0.]])"
            ]
          },
          "execution_count": 241,
          "metadata": {},
          "output_type": "execute_result"
        }
      ],
      "source": [
        "matrixLayerToPatternConversion(matrix)"
      ]
    },
    {
      "cell_type": "code",
      "execution_count": null,
      "metadata": {
        "colab": {
          "base_uri": "https://localhost:8080/"
        },
        "id": "MNqmilsK0AJT",
        "outputId": "2959c49e-aa8b-4474-8d88-7506b2479805"
      },
      "outputs": [
        {
          "data": {
            "text/plain": [
              "array([[0., 0., 0., ..., 0., 0., 0.],\n",
              "       [0., 0., 0., ..., 0., 0., 0.],\n",
              "       [0., 0., 0., ..., 0., 0., 0.],\n",
              "       ...,\n",
              "       [0., 0., 0., ..., 0., 0., 0.],\n",
              "       [0., 0., 0., ..., 0., 0., 0.],\n",
              "       [0., 0., 0., ..., 0., 0., 0.]])"
            ]
          },
          "execution_count": 242,
          "metadata": {},
          "output_type": "execute_result"
        }
      ],
      "source": [
        "matrix"
      ]
    },
    {
      "cell_type": "code",
      "execution_count": null,
      "metadata": {
        "colab": {
          "base_uri": "https://localhost:8080/"
        },
        "id": "ih8a2APicpE3",
        "outputId": "cac8bd00-596f-4121-87b4-46f94c690eee"
      },
      "outputs": [
        {
          "name": "stdout",
          "output_type": "stream",
          "text": [
            "7.1.2\n"
          ]
        },
        {
          "name": "stderr",
          "output_type": "stream",
          "text": [
            "/usr/local/lib/python3.7/dist-packages/ipykernel_launcher.py:2: DeprecationWarning: PILLOW_VERSION is deprecated and will be removed in a future release. Use __version__ instead.\n",
            "  \n"
          ]
        }
      ],
      "source": [
        "import PIL\n",
        "print(PIL.PILLOW_VERSION)"
      ]
    },
    {
      "cell_type": "code",
      "execution_count": null,
      "metadata": {
        "id": "eMdQrFWvcp84"
      },
      "outputs": [],
      "source": [
        "testImageArray = np.zeros((200,200,3))"
      ]
    },
    {
      "cell_type": "code",
      "execution_count": null,
      "metadata": {
        "id": "uCihr2KId0ah"
      },
      "outputs": [],
      "source": [
        "for i in range(len(matrix)):\n",
        "  for o in range(len(matrix[i])):\n",
        "    if matrix[i][o]!=0:\n",
        "      testImageArray[i][o]=[255,255,255]"
      ]
    },
    {
      "cell_type": "code",
      "execution_count": null,
      "metadata": {
        "id": "50FnHjWweCz-"
      },
      "outputs": [],
      "source": [
        "import matplotlib.pyplot as plt\n",
        "%matplotlib inline \n"
      ]
    },
    {
      "cell_type": "code",
      "execution_count": null,
      "metadata": {
        "colab": {
          "base_uri": "https://localhost:8080/",
          "height": 287
        },
        "id": "hfm4Af15eEA8",
        "outputId": "6ddc387a-a23b-4fda-f636-e339841876ec"
      },
      "outputs": [
        {
          "name": "stderr",
          "output_type": "stream",
          "text": [
            "WARNING:matplotlib.image:Clipping input data to the valid range for imshow with RGB data ([0..1] for floats or [0..255] for integers).\n"
          ]
        },
        {
          "data": {
            "image/png": "[encoded data removed]",
            "text/plain": [
              "<Figure size 432x288 with 1 Axes>"
            ]
          },
          "metadata": {
            "needs_background": "light"
          },
          "output_type": "display_data"
        }
      ],
      "source": [
        "\n",
        "plt.imshow(testImageArray, interpolation='nearest')\n",
        "plt.show()"
      ]
    },
    {
      "cell_type": "code",
      "execution_count": null,
      "metadata": {
        "id": "wTOqkv0LeTON"
      },
      "outputs": [],
      "source": [
        "testSolImageArray = np.zeros((200,200,3))\n",
        "ExportArray = np.zeros((200,200))"
      ]
    },
    {
      "cell_type": "code",
      "execution_count": null,
      "metadata": {
        "id": "IglDfV5fi_TY"
      },
      "outputs": [],
      "source": [
        "for i in range(len(solutionMatrix)):\n",
        "  for o in range(len(solutionMatrix[i])):\n",
        "    if matrix[i][o]!=0:\n",
        "      ExportArray[i][o]=1\n",
        "      testSolImageArray[i][o]=[255,255,255]\n",
        "    if solutionMatrix[i][o]==1:\n",
        "      testSolImageArray[i][o]=[255,0,0]"
      ]
    },
    {
      "cell_type": "code",
      "execution_count": null,
      "metadata": {
        "colab": {
          "base_uri": "https://localhost:8080/",
          "height": 287
        },
        "id": "Ia4zLjgUjFI8",
        "outputId": "3fd26f3f-86fa-4193-a0bf-6f07374b9d6a"
      },
      "outputs": [
        {
          "name": "stderr",
          "output_type": "stream",
          "text": [
            "WARNING:matplotlib.image:Clipping input data to the valid range for imshow with RGB data ([0..1] for floats or [0..255] for integers).\n"
          ]
        },
        {
          "data": {
            "image/png": "[encoded data removed]",
            "text/plain": [
              "<Figure size 432x288 with 1 Axes>"
            ]
          },
          "metadata": {
            "needs_background": "light"
          },
          "output_type": "display_data"
        }
      ],
      "source": [
        "plt.imshow(testSolImageArray, interpolation='nearest')\n",
        "plt.show()"
      ]
    },
    {
      "cell_type": "code",
      "execution_count": null,
      "metadata": {
        "id": "WdueKPMDjIvG"
      },
      "outputs": [],
      "source": [
        "import pandas as pd"
      ]
    },
    {
      "cell_type": "code",
      "execution_count": null,
      "metadata": {
        "id": "XU_D5dUwItFL"
      },
      "outputs": [],
      "source": [
        "data = pd.DataFrame(ExportArray)"
      ]
    },
    {
      "cell_type": "code",
      "execution_count": null,
      "metadata": {
        "id": "I2jW2lmFJUvz"
      },
      "outputs": [],
      "source": [
        "# from google.colab import files\n",
        "# data.to_csv(\"file.csv\",index = False,)\n",
        "# files.download(\"file.csv\")"
      ]
    },
    {
      "cell_type": "code",
      "execution_count": null,
      "metadata": {
        "id": "VBzlRXz7NSQs"
      },
      "outputs": [],
      "source": []
    }
  ],
  "metadata": {
    "colab": {
      "provenance": []
    },
    "kernelspec": {
      "display_name": "Python 3.x",
      "language": "python",
      "name": "python3"
    },
    "language_info": {
      "name": "python",
      "version": "3"
    },
    "vscode": {
      "interpreter": {
        "hash": "31f2aee4e71d21fbe5cf8b01ff0e069b9275f58929596ceb00d14d90e3e16cd6"
      }
    }
  },
  "nbformat": 4,
  "nbformat_minor": 0
}
